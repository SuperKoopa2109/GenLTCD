{
 "cells": [
  {
   "cell_type": "markdown",
   "source": [
    "# Import Libraries"
   ],
   "metadata": {
    "collapsed": false,
    "pycharm": {
     "name": "#%% md\n"
    }
   }
  },
  {
   "cell_type": "code",
   "execution_count": null,
   "metadata": {
    "collapsed": true,
    "pycharm": {
     "name": "#%%\n"
    }
   },
   "outputs": [],
   "source": [
    "from methods.contrastive_training import contrastive_training\n",
    "from models import vision_transformer as vits\n",
    "import torch"
   ]
  },
  {
   "cell_type": "markdown",
   "source": [
    "# 1.  Train representation using contrastive Learning"
   ],
   "metadata": {
    "collapsed": false,
    "pycharm": {
     "name": "#%% md\n"
    }
   }
  },
  {
   "cell_type": "code",
   "execution_count": null,
   "outputs": [],
   "source": [
    "num_labeled_classes = range(80)\n",
    "num_unlabeled_classes = range(80, 100)\n",
    "\n",
    "interpolation = 3\n",
    "crop_pct = 0.875\n",
    "#pretrain_path = dino_pretrain_path\n",
    "\n",
    "model = vits.__dict__['vit_base']()\n",
    "\n",
    "state_dict = torch.load(pretrain_path, map_location='cpu')\n",
    "model.load_state_dict(state_dict)"
   ],
   "metadata": {
    "collapsed": false,
    "pycharm": {
     "name": "#%%\n"
    }
   }
  }
 ],
 "metadata": {
  "kernelspec": {
   "display_name": "Python 3",
   "language": "python",
   "name": "python3"
  },
  "language_info": {
   "codemirror_mode": {
    "name": "ipython",
    "version": 2
   },
   "file_extension": ".py",
   "mimetype": "text/x-python",
   "name": "python",
   "nbconvert_exporter": "python",
   "pygments_lexer": "ipython2",
   "version": "2.7.6"
  }
 },
 "nbformat": 4,
 "nbformat_minor": 0
}